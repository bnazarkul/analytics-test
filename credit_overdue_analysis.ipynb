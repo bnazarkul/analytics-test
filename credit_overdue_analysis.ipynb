{
 "cells": [
  {
   "cell_type": "code",
   "execution_count": null,
   "id": "17587f48",
   "metadata": {},
   "outputs": [],
   "source": [
    "import pandas as pd\n",
    "import matplotlib.pyplot as plt\n",
    "import seaborn as sns\n",
    "from datetime import datetime\n",
    "\n",
    "# Настройки отображения\n",
    "pd.set_option('display.max_columns', None)\n",
    "sns.set(style='whitegrid')\n"
   ]
  },
  {
   "cell_type": "code",
   "execution_count": null,
   "id": "58aed816",
   "metadata": {},
   "outputs": [],
   "source": [
    "# Загрузите файлы вручную в Colab (слева -> вкладка Files -> Upload)\n",
    "orders = pd.read_csv('orders.csv', parse_dates=['created_at', 'put_at', 'closed_at'])\n",
    "payments = pd.read_csv('payments.csv', parse_dates=['paid_at'])\n",
    "plan = pd.read_csv('plan.csv', parse_dates=['plan_at'])\n"
   ]
  },
  {
   "cell_type": "code",
   "execution_count": null,
   "id": "2118a48c",
   "metadata": {},
   "outputs": [],
   "source": [
    "# Сгруппируем фактические платежи по order_id и дате\n",
    "payments_grouped = payments.groupby(['order_id', 'paid_at'])['paid_sum'].sum().reset_index()\n",
    "\n",
    "# Рассчитаем накопительный платеж по дате\n",
    "payments_grouped['paid_cumsum'] = payments_grouped.groupby('order_id')['paid_sum'].cumsum()\n"
   ]
  },
  {
   "cell_type": "code",
   "execution_count": null,
   "id": "2d67a1d3",
   "metadata": {},
   "outputs": [],
   "source": [
    "# Объединяем план с фактическими платежами по order_id и дате\n",
    "plan_sorted = plan.sort_values(['order_id', 'plan_at'])\n",
    "merged = pd.merge_asof(\n",
    "    plan_sorted.sort_values(['order_id', 'plan_at']),\n",
    "    payments_grouped.sort_values(['order_id', 'paid_at']),\n",
    "    by='order_id',\n",
    "    left_on='plan_at',\n",
    "    right_on='paid_at',\n",
    "    direction='backward'\n",
    ")\n",
    "\n",
    "# Заполняем пропуски 0\n",
    "merged['paid_cumsum'] = merged['paid_cumsum'].fillna(0)\n",
    "\n",
    "# Рассчитываем просрочку на дату планового платежа\n",
    "merged['overdue'] = merged['plan_sum_total'] - merged['paid_cumsum']\n",
    "merged['overdue'] = merged['overdue'].apply(lambda x: max(x, 0))\n"
   ]
  },
  {
   "cell_type": "code",
   "execution_count": null,
   "id": "9575906f",
   "metadata": {},
   "outputs": [],
   "source": [
    "# Группируем по дате планового платежа\n",
    "monthly_overdue = merged.groupby(merged['plan_at'].dt.to_period('M'))['overdue'].sum().reset_index()\n",
    "monthly_overdue['plan_at'] = monthly_overdue['plan_at'].dt.to_timestamp()\n",
    "\n",
    "# Строим график\n",
    "plt.figure(figsize=(12,6))\n",
    "sns.lineplot(data=monthly_overdue, x='plan_at', y='overdue', marker='o')\n",
    "plt.title('Динамика общей суммы просрочки по месяцам')\n",
    "plt.xlabel('Месяц')\n",
    "plt.ylabel('Сумма просрочки')\n",
    "plt.xticks(rotation=45)\n",
    "plt.tight_layout()\n",
    "plt.show()\n"
   ]
  },
  {
   "cell_type": "markdown",
   "id": "f60dbfd4",
   "metadata": {},
   "source": [
    "### 📊 Вывод\n",
    "\n",
    "График показывает, как менялась сумма просрочек по плановым платежам во времени. На основе этой динамики можно сделать вывод о том, растёт ли задолженность клиентов или снижается.\n",
    "\n",
    "Обрати внимание на пики — они могут быть вызваны как реальными ухудшениями поведения клиентов, так и сбоями в платежах, которые стоит проанализировать отдельно.\n"
   ]
  }
 ],
 "metadata": {},
 "nbformat": 4,
 "nbformat_minor": 5
}
